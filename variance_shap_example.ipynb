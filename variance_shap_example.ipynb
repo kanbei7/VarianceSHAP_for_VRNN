{
 "cells": [
  {
   "cell_type": "code",
   "execution_count": 1,
   "id": "0a533019-ebc7-4029-bb32-3313acc0c7f7",
   "metadata": {},
   "outputs": [
    {
     "name": "stderr",
     "output_type": "stream",
     "text": [
      "/home/ericliu/anaconda3/envs/whiskey/lib/python3.11/site-packages/tqdm/auto.py:21: TqdmWarning: IProgress not found. Please update jupyter and ipywidgets. See https://ipywidgets.readthedocs.io/en/stable/user_install.html\n",
      "  from .autonotebook import tqdm as notebook_tqdm\n",
      "/home/ericliu/anaconda3/envs/whiskey/lib/python3.11/site-packages/transformers/utils/generic.py:441: UserWarning: torch.utils._pytree._register_pytree_node is deprecated. Please use torch.utils._pytree.register_pytree_node instead.\n",
      "  _torch_pytree._register_pytree_node(\n"
     ]
    }
   ],
   "source": [
    "import torch, torchvision\n",
    "from torchvision import datasets, transforms\n",
    "from torch import nn, optim\n",
    "from torch.nn import functional as F\n",
    "import numpy as np\n",
    "import shap"
   ]
  },
  {
   "cell_type": "markdown",
   "id": "0b44fb4a-471b-48f3-beb4-e7c47ac21834",
   "metadata": {},
   "source": [
    "### Load Dataset"
   ]
  },
  {
   "cell_type": "code",
   "execution_count": 3,
   "id": "81957e9a-41f6-48a6-adb3-7a5db6d40c2f",
   "metadata": {},
   "outputs": [],
   "source": [
    "#parameters\n",
    "batch_size = 128"
   ]
  },
  {
   "cell_type": "code",
   "execution_count": 4,
   "id": "01067e31-afb7-4072-b4fa-b5b2f4718fdf",
   "metadata": {},
   "outputs": [],
   "source": [
    "train_loader = torch.utils.data.DataLoader(\n",
    "    datasets.MNIST('mnist_data', train=True, download=True,\n",
    "                   transform=transforms.Compose([\n",
    "                       transforms.ToTensor()\n",
    "                   ])),\n",
    "    batch_size=batch_size, shuffle=True)\n",
    "\n",
    "test_loader = torch.utils.data.DataLoader(\n",
    "    datasets.MNIST('mnist_data', train=False, transform=transforms.Compose([\n",
    "                       transforms.ToTensor()\n",
    "                   ])),\n",
    "    batch_size=batch_size, shuffle=False)"
   ]
  },
  {
   "cell_type": "markdown",
   "id": "4857b402-8b91-47bb-81d1-3f52428ee4ac",
   "metadata": {},
   "source": [
    "### Define Variational RNN"
   ]
  },
  {
   "cell_type": "code",
   "execution_count": 6,
   "id": "93f9a153-bf50-4fac-a67a-06d554df8c53",
   "metadata": {},
   "outputs": [],
   "source": [
    "import math\n",
    "import numpy as np\n",
    "import torch\n",
    "import torch.nn as nn\n",
    "import torch.nn.init as init\n",
    "from torch.autograd import Variable\n",
    "from torch.nn import Parameter\n",
    "from torch import linalg as LA"
   ]
  },
  {
   "cell_type": "code",
   "execution_count": 15,
   "id": "2d790478-e5e2-41c4-8c00-da5651382e02",
   "metadata": {},
   "outputs": [],
   "source": [
    "#define auxillary functions\n",
    "# init weights\n",
    "def init_weights(layer):\n",
    "\tif type(layer) == nn.Linear or type(layer) == nn.Conv1d:\n",
    "\t\tinit.xavier_normal_(layer.weight)\n",
    "\n",
    "# exact KL-divergence between twon Gaussians(with known mean and standard deviation)\n",
    "def kld_guass_exact(mu1, logvar1, mu2, logvar2 ):\n",
    "\tkld = logvar2-logvar1+(logvar1.exp()+(mu1-mu2)**2)/logvar2.exp()-1\n",
    "\treturn 0.5*kld.sum(-1)\n",
    "\n",
    "# NLL loss between a Gaussian and a standard normal distribution\n",
    "logsqrt2pi=0.5 * np.log(2 * np.pi)\n",
    "def nll_gauss(mu, log_sigma, x):\n",
    "\treturn 0.5 * torch.pow((x - mu) / log_sigma.exp(), 2) + log_sigma + logsqrt2pi\n",
    "\n",
    "\n",
    "#Soft clip, to allow gradients\n",
    "def softclip(tensor, min_v):\n",
    "\tresult_tensor = min_v + F.softplus(tensor - min_v)\n",
    "\treturn result_tensor\n",
    "\n",
    "# sigma-NLL loss (from sigma VAE)\n",
    "#keep batch dim\n",
    "def sigma_nll(x_hat, x):\n",
    "\tlog_sigma = ((x - x_hat) ** 2).mean(dim=1,keepdim=True).sqrt().log()\n",
    "\tlog_sigma = softclip(log_sigma, -6)\n",
    "\treturn nll_gauss(x_hat, log_sigma, x).sum(-1)\n"
   ]
  },
  {
   "cell_type": "code",
   "execution_count": 16,
   "id": "4aa285f1-50d3-4c94-af33-0248efc17fa7",
   "metadata": {},
   "outputs": [],
   "source": [
    "class VRNN(nn.Module):\n",
    "\tdef __init__(self, input_dim=28, rnn_h_dim=8, rnn_n_layers=2, z_dim=8, rnn_dropout=0.0,  rnn_bias = False, model_type=None):\n",
    "\t\tsuper(VRNN, self).__init__()\n",
    "\t\tself.input_dim=input_dim\n",
    "\t\tself.rnn_h_dim=rnn_h_dim\n",
    "\t\tself.rnn_n_layers=rnn_n_layers\n",
    "\t\tself.z_dim=z_dim\n",
    "\t\tself.model_type=model_type\n",
    "\t\tself.rnn_dropout=rnn_dropout\n",
    "\t\tself.rnn_bias = rnn_bias\n",
    "\n",
    "\t\tself.rnn_input_dim = self.input_dim\n",
    "\t\tself.rnn = nn.GRU(self.rnn_input_dim+self.z_dim, self.rnn_h_dim, self.rnn_n_layers, self.rnn_bias, batch_first = True)\n",
    "\n",
    "\t\t#main task clf\n",
    "\t\tself.clf = nn.Sequential(\n",
    "            nn.Linear(self.z_dim, 10),\n",
    "            nn.LogSoftmax(dim=1)\n",
    "        )\n",
    "\n",
    "\t\t#prior based on h(t-1)\n",
    "\t\tself.prior_mean = nn.Sequential(\n",
    "\t\t\tnn.ReLU(),\n",
    "\t\t\tnn.Linear(self.rnn_h_dim, self.z_dim)\n",
    "\t\t\t)\n",
    "\t\tself.prior_logvar = nn.Sequential(\n",
    "\t\t\tnn.ReLU(),\n",
    "\t\t\tnn.Linear(self.rnn_h_dim, self.z_dim)\n",
    "\t\t\t)\n",
    "\n",
    "\t\t#encoder based on x(t) and h(t-1)\n",
    "\t\tself.enc_mean = nn.Sequential(\n",
    "\t\t\tnn.ReLU(),\n",
    "\t\t\tnn.Linear(self.input_dim+self.rnn_h_dim, self.rnn_h_dim*2),\n",
    "\t\t\tnn.ReLU(),\n",
    "\t\t\tnn.Linear(self.rnn_h_dim*2, self.z_dim)\n",
    "\t\t\t)\n",
    "\t\tself.enc_logvar = nn.Sequential(\n",
    "\t\t\tnn.ReLU(),\n",
    "\t\t\tnn.Linear(self.input_dim+self.rnn_h_dim, self.rnn_h_dim*2),\n",
    "\t\t\tnn.ReLU(),\n",
    "\t\t\tnn.Linear(self.rnn_h_dim*2, self.z_dim)\n",
    "\t\t\t)\n",
    "\n",
    "\t\t#decoder based on z(t) and h(t-1)\n",
    "\t\tself.dec_mean = nn.Sequential(\n",
    "\t\t\tnn.Linear(self.rnn_h_dim+self.z_dim, self.rnn_h_dim*2),\n",
    "\t\t\t#nn.BatchNorm1d(self.rnn_h_dim*2),\n",
    "\t\t\tnn.ReLU(),\n",
    "\t\t\tnn.Linear(self.rnn_h_dim*2,  self.input_dim)\n",
    "\t\t\t)\n",
    "\n",
    "\t\t#init\n",
    "\t\tself.clf.apply(init_weights)\n",
    "\t\tself.prior_mean.apply(init_weights)\n",
    "\t\tself.prior_logvar.apply(init_weights)\n",
    "\t\tself.enc_mean.apply(init_weights)\n",
    "\t\tself.enc_logvar.apply(init_weights)\n",
    "\t\tself.dec_mean.apply(init_weights)\n",
    "\n",
    "    #for regularizations\n",
    "\tdef get_weights(self):\n",
    "\t\tw={}\n",
    "\t\tclf_weights = [[s.view(-1) for s in layer.parameters()] for i,layer in enumerate(self.clf) if type(layer)==nn.Linear]\n",
    "\t\tw['clf_weights'] = torch.sum(torch.Tensor([torch.norm(w[0]) for w in clf_weights]))\t\t\n",
    "\n",
    "\t\trnn_weights = [LA.matrix_norm(param) for name, param in self.named_parameters() if name.startswith('weight')]\n",
    "\t\tw['rnn_weights'] = sum(rnn_weights)\n",
    "\n",
    "\t\tprior_mean_weights = [[s.view(-1) for s in layer.parameters()] for i,layer in enumerate(self.prior_mean) if type(layer)==nn.Linear]\n",
    "\t\tw['prior_mean_weights'] = torch.sum(torch.Tensor([torch.norm(w[0]) for w in prior_mean_weights]))\n",
    "\t\tprior_logvar_weights = [[s.view(-1) for s in layer.parameters()] for i,layer in enumerate(self.prior_logvar) if type(layer)==nn.Linear]\n",
    "\t\tw['prior_logvar_weights'] = torch.sum(torch.Tensor([torch.norm(w[0]) for w in prior_logvar_weights]))\n",
    "\n",
    "\t\tenc_mean_weights = [[s.view(-1) for s in layer.parameters()] for i,layer in enumerate(self.enc_mean) if type(layer)==nn.Linear]\n",
    "\t\tw['enc_mean_weights'] = torch.sum(torch.Tensor([torch.norm(w[0]) for w in enc_mean_weights]))\n",
    "\t\tenc_logvar_weights = [[s.view(-1) for s in layer.parameters()] for i,layer in enumerate(self.enc_logvar) if type(layer)==nn.Linear]\n",
    "\t\tw['enc_logvar_weights'] = torch.sum(torch.Tensor([torch.norm(w[0]) for w in enc_logvar_weights]))\n",
    "\n",
    "\t\tdec_mean_weights = [[s.view(-1) for s in layer.parameters()] for i,layer in enumerate(self.dec_mean) if type(layer)==nn.Linear]\n",
    "\t\tw['dec_mean_weights'] = torch.sum(torch.Tensor([torch.norm(w[0]) for w in dec_mean_weights]))\n",
    "\n",
    "\t\treturn w\n",
    "\n",
    "\n",
    "\tdef weight_sum(self):\n",
    "\t\tw=self.get_weights()\n",
    "\t\treturn sum([w[k] for k in w.keys()])\n",
    "\n",
    "    #reparam by given scale and location\n",
    "\tdef reparameterize(self, mu, logvar):\n",
    "\t\tstd = torch.exp(0.5*logvar)\n",
    "\t\teps = torch.randn_like(std)\n",
    "\t\treturn mu+eps.mul(std)\n",
    "\n",
    "\t#sample size n\n",
    "\tdef sample_z(self, n, device):\n",
    "\t\tsample = torch.randn(n, self.rnn_h_dim+self.z_dim).to(device)\n",
    "\t\treturn self.decode(sample)\t\n",
    "\n",
    "\n",
    "\t#input shape: [batch_size, seq_len, input_dim]\n",
    "\tdef forward(self, x, is_train=False):\n",
    "\t\t# vrnn init\n",
    "\t\tbatch_size,max_len = x.shape[0], x.shape[1]\n",
    "\t\tkld_loss,nll_loss = 0,0\n",
    "\t\tx_recon,y_pred=[],[]\n",
    "\t\tzt,logvars,mus=[],[],[]\n",
    "\t\th = Variable(torch.zeros(self.rnn_n_layers,batch_size , self.rnn_h_dim)).to(x.device)\n",
    "\n",
    "\t\tfor t in range(max_len):\n",
    "\t\t\t#prior\n",
    "\t\t\tprior_mean_t=self.prior_mean(h[-1])\n",
    "\t\t\tprior_logvar_t=self.prior_logvar(h[-1])\n",
    "\n",
    "\t\t\tx_t = x[:,t,:]\n",
    "\t\t\t#encoder\n",
    "\t\t\tenc_x = torch.cat([x_t, h[-1]], 1)\n",
    "\t\t\tenc_mean_t = self.enc_mean(enc_x)\n",
    "\t\t\tenc_logvar_t = self.enc_logvar(enc_x)\n",
    "\t\t\tlogvars.append(enc_logvar_t)\n",
    "            \n",
    "\t\t\t#z, reparameterization\n",
    "\t\t\tz_t=self.reparameterize(enc_mean_t, enc_logvar_t)\n",
    "\t\t\tzt.append(z_t)\n",
    "\t\t\tmus.append(enc_mean_t)\n",
    "\t\t\tif is_train:\n",
    "\t\t\t\ty_pred.append(self.clf(z_t))\n",
    "\t\t\telse:\n",
    "\t\t\t\ty_pred.append(self.clf(enc_mean_t))\n",
    "\t\t\t\n",
    "\n",
    "\t\t\tdec_x = torch.cat([z_t, h[-1]], 1)\n",
    "\t\t\tdec_mean_t = self.dec_mean(dec_x)\n",
    "\t\t\tx_recon.append(dec_mean_t)\n",
    "\n",
    "\t\t\t# recurrence\n",
    "\t\t\t_, h = self.rnn(torch.cat([x_t, z_t], 1).unsqueeze(1), h)\n",
    "\n",
    "\t\t\tkld_t=kld_guass_exact(enc_mean_t, enc_logvar_t, prior_mean_t, prior_logvar_t)\n",
    "\t\t\tnll_t=sigma_nll(dec_mean_t, x_t)\n",
    "\n",
    "\t\t\tkld_loss+=(kld_t.sum())\n",
    "\t\t\tnll_loss+=(nll_t.sum())\n",
    "\t\t\n",
    "\t\tres={}\n",
    "\t\tres['kld_loss']=kld_loss\n",
    "\t\tres['nll_loss']=nll_loss\n",
    "\t\tres['y_score']=torch.stack(y_pred).transpose(0,1)\n",
    "\t\tres['x_recon']=torch.stack(x_recon).transpose(0,1)\n",
    "\t\tres['logvar']=torch.stack(logvars).transpose(0,1)\n",
    "\t\tres['z']=torch.stack(zt).transpose(0,1)\n",
    "\t\tres['mus']=torch.stack(mus).transpose(0,1)\n",
    "\t\treturn res"
   ]
  },
  {
   "cell_type": "markdown",
   "id": "a5624bb6-f4fc-4776-a718-f070c9d5dd53",
   "metadata": {},
   "source": [
    "### Train VRNN"
   ]
  },
  {
   "cell_type": "code",
   "execution_count": 17,
   "id": "e5e5edab-21c9-4a42-b9ed-1d6adae6f93a",
   "metadata": {},
   "outputs": [],
   "source": [
    "num_epochs = 5\n",
    "device = torch.device('cpu')\n",
    "reconcriterion=nn.MSELoss()\n",
    "\n",
    "def train_RNN(model, device, train_loader, optimizer, epoch):\n",
    "    model.train()\n",
    "    for batch_idx, (data, target) in enumerate(train_loader):\n",
    "        data=data.squeeze(1)\n",
    "        data, target = data.to(device), target.to(device)\n",
    "        N=len(data)*28\n",
    "        optimizer.zero_grad()\n",
    "        res_dict = model(data,is_train=True)\n",
    "        x_recon = res_dict['x_recon']\n",
    "        loss=F.nll_loss(res_dict['y_score'][:,-1,:], target)\n",
    "        reconloss=torch.sqrt(reconcriterion(x_recon,data))\n",
    "        loss += (res_dict['kld_loss']+torch.clamp(res_dict['nll_loss'], min=-10.0, max=10.0))/N + reconloss \n",
    "\n",
    "        loss.backward()\n",
    "        optimizer.step()\n",
    "        #if batch_idx % 100 == 0:\n",
    "        #    print('Train Epoch: {} [{}/{} ({:.0f}%)]\\tLoss: {:.6f}'.format(\n",
    "        #        epoch, batch_idx * len(data), len(train_loader.dataset),\n",
    "        #        100. * batch_idx / len(train_loader), loss.item()))\n",
    "\n",
    "def test_RNN(model, device, test_loader, epoch):\n",
    "    model.eval()\n",
    "    test_loss = 0\n",
    "    correct = 0\n",
    "    with torch.no_grad():\n",
    "        for data, target in test_loader:\n",
    "            data=data.squeeze(1)\n",
    "            data, target = data.to(device), target.to(device)\n",
    "            res_dict = model(data)\n",
    "            x_recon = res_dict['x_recon']\n",
    "            y_pred = res_dict['y_score'][:,-1,:]\n",
    "            #reconloss=torch.sqrt(reconcriterion(x_recon,data))\n",
    "            #loss = F.nll_loss(y_pred, target) + (res_dict['kld_loss']+torch.clamp(res_dict['nll_loss'], min=-10.0, max=10.0))/N + reconloss \n",
    "\n",
    "            test_loss += F.nll_loss(y_pred, target).item() # sum up batch loss\n",
    "            pred = res_dict['y_score'][:,-1,:].max(1, keepdim=True)[1] # get the index of the max log-probability\n",
    "            correct += pred.eq(target.view_as(pred)).sum().item()\n",
    "\n",
    "    test_loss /= len(test_loader.dataset)\n",
    "    print('Epoch: {} Test set: Average loss: {:.4f}, Accuracy: {}/{} ({:.0f}%)\\n'.format(epoch,\n",
    "        test_loss, correct, len(test_loader.dataset),\n",
    "    100. * correct / len(test_loader.dataset)))\n",
    "    return  correct / len(test_loader.dataset)\n",
    "    "
   ]
  },
  {
   "cell_type": "code",
   "execution_count": 18,
   "id": "7fe22369-7ec2-4feb-987d-c92b4d39153c",
   "metadata": {},
   "outputs": [
    {
     "name": "stdout",
     "output_type": "stream",
     "text": [
      "Epoch: 1 Test set: Average loss: 0.0111, Accuracy: 4107/10000 (41%)\n",
      "\n",
      "Epoch: 2 Test set: Average loss: 0.0040, Accuracy: 8358/10000 (84%)\n",
      "\n",
      "Epoch: 3 Test set: Average loss: 0.0022, Accuracy: 9247/10000 (92%)\n",
      "\n",
      "Epoch: 4 Test set: Average loss: 0.0018, Accuracy: 9395/10000 (94%)\n",
      "\n",
      "Epoch: 5 Test set: Average loss: 0.0015, Accuracy: 9506/10000 (95%)\n",
      "\n"
     ]
    }
   ],
   "source": [
    "vmodel=VRNN(input_dim=28, rnn_h_dim=16, rnn_n_layers=2, z_dim=16).to(device)\n",
    "optimizer = optim.Adam(vmodel.parameters(), lr=0.003)\n",
    "\n",
    "for epoch in range(1, num_epochs + 1):\n",
    "    train_RNN(vmodel, device, train_loader, optimizer, epoch)\n",
    "    acc=test_RNN(vmodel, device, test_loader, epoch)\n"
   ]
  },
  {
   "cell_type": "markdown",
   "id": "6a201221-1c30-4622-a2c5-c2986c1fe938",
   "metadata": {},
   "source": [
    "### Define Variance SHAP Warpper"
   ]
  },
  {
   "cell_type": "code",
   "execution_count": 20,
   "id": "b520c0e7-e9a6-4fbf-8eeb-bbea2aa3d1ca",
   "metadata": {},
   "outputs": [],
   "source": [
    "vmodel=vmodel.cpu()\n",
    "\n",
    "#predicted score wrapped model \n",
    "class score_wrapper(nn.Module):\n",
    "    def __init__(self, model):\n",
    "        super(score_wrapper,self).__init__()\n",
    "        self.model=model\n",
    "\n",
    "    def forward(self,x):\n",
    "        x=x.squeeze(1)\n",
    "        return self.model(x)['y_score'][:,-1,:]\n",
    "    \n",
    "score_wrp= score_wrapper(vmodel)"
   ]
  },
  {
   "cell_type": "code",
   "execution_count": 30,
   "id": "f1035b0c-f0b9-421e-8688-fffb5023ed44",
   "metadata": {},
   "outputs": [],
   "source": [
    "#varaince wrapped\n",
    "#varaince approximated by Delta's Method\n",
    "from torch.autograd import grad,Variable\n",
    "class variance_wrapper_delta(nn.Module):\n",
    "    def __init__(self, model):\n",
    "        super(variance_wrapper_delta,self).__init__()\n",
    "        self.model=model\n",
    "\n",
    "    #z: [bs,z_dim]\n",
    "    #y: [bs,10]\n",
    "    #out [bs,z_dim, 10]\n",
    "    def get_derivative(self,z):\n",
    "        z=Variable(z,requires_grad=True)\n",
    "        y=self.model.clf(z)\n",
    "        #y_z=grad(y,z,grad_outputs=torch.ones_like(y),create_graph=True)\n",
    "        y_z=[grad(y[:,i],z,grad_outputs=torch.ones_like(y[:,i]),create_graph=True)[0] for i in range(10)]\n",
    "        return (torch.stack(y_z)**2).transpose(0,2).transpose(0,1)\n",
    "        \n",
    "    def forward(self,z):\n",
    "        z1,z2=z[:,:16],z[:,16:]\n",
    "        y_z=self.get_derivative(z1)\n",
    "        total_var=torch.bmm(z2.exp().unsqueeze(1),y_z)\n",
    "        return total_var.squeeze(1)\n",
    "\n",
    "#Exact form of variance from sum of multiple Gaussains\n",
    "class variance_wrapper_exact(nn.Module):\n",
    "    def __init__(self, model):\n",
    "        super(variance_wrapper_exact,self).__init__()\n",
    "        self.model=model\n",
    "\n",
    "    #z: [bs,z_dim]\n",
    "    #y: [bs,10]\n",
    "    #out [bs,z_dim, 10]\n",
    "    def get_derivative(self,z):\n",
    "        z=Variable(z,requires_grad=True)\n",
    "        y=self.model.clf(z)\n",
    "        #y_z=grad(y,z,grad_outputs=torch.ones_like(y),create_graph=True)\n",
    "        y_z=[grad(y[:,i],z,grad_outputs=torch.ones_like(y[:,i]),create_graph=True)[0] for i in range(10)]\n",
    "        return (torch.stack(y_z)**2).transpose(0,2).transpose(0,1)\n",
    "        \n",
    "    def forward(self,x):\n",
    "        x=x.squeeze(1)\n",
    "        res=self.model(x)\n",
    "        z1,z2=res['mus'][:,-1,:],res['logvar'][:,-1,:]\n",
    "        y_z=self.get_derivative(z1)\n",
    "        total_var=torch.bmm(z2.exp().unsqueeze(1),y_z)\n",
    "        return total_var.squeeze(1)\n",
    "        \n",
    "var_wrp= variance_wrapper_exact(vmodel)"
   ]
  },
  {
   "cell_type": "markdown",
   "id": "46169414-2400-41c7-8bc0-cc761921c429",
   "metadata": {},
   "source": [
    "### Prediction SHAP, Variance of Prediction SHAP and Varaince SHAP\n",
    "* SHAP values are computed against conditional expectations, therefore, unlike varaince or SHapley value of varaince, negative varaince SHAP values are not uncommon."
   ]
  },
  {
   "cell_type": "code",
   "execution_count": 43,
   "id": "ac143904-969d-4208-a3b1-0e55d7a02618",
   "metadata": {},
   "outputs": [],
   "source": [
    "#select background for SHAP computation\n",
    "train_batch = next(iter(train_loader))\n",
    "train_images, _ = train_batch\n",
    "background = train_images[:100]\n",
    "\n",
    "test_batch = next(iter(test_loader))\n",
    "images, _ = test_batch\n",
    "test_images = images[100:101]"
   ]
  },
  {
   "cell_type": "markdown",
   "id": "0e9aee3c-afc8-42a4-b5dc-a043efe42589",
   "metadata": {},
   "source": [
    "* Prediction SHAP"
   ]
  },
  {
   "cell_type": "code",
   "execution_count": 45,
   "id": "12b9a65b-5555-4f86-b7ba-369f9d460416",
   "metadata": {},
   "outputs": [
    {
     "data": {
      "image/png": "[encoded data removed]",
      "text/plain": [
       "<Figure size 2000x303.03 with 12 Axes>"
      ]
     },
     "metadata": {},
     "output_type": "display_data"
    }
   ],
   "source": [
    "#e = shap.DeepExplainer(score_wrp, background)\n",
    "e = shap.GradientExplainer(score_wrp, background)\n",
    "shap_values = e.shap_values(test_images)\n",
    "shap_numpy = [np.swapaxes(np.swapaxes(s, 1, -1), 1, 2) for s in shap_values]\n",
    "test_numpy = np.swapaxes(np.swapaxes(test_images.numpy(), 1, -1), 1, 2)\n",
    "shap.image_plot(shap_numpy, -test_numpy)"
   ]
  },
  {
   "cell_type": "markdown",
   "id": "3f21ee6e-3f7a-4781-bd0b-6a317387dbb5",
   "metadata": {},
   "source": [
    "* Varaince SHAP"
   ]
  },
  {
   "cell_type": "code",
   "execution_count": 46,
   "id": "fde209b9-adc8-4fda-9161-71f5a3516d49",
   "metadata": {},
   "outputs": [
    {
     "data": {
      "image/png": "[encoded data removed]",
      "text/plain": [
       "<Figure size 2000x303.03 with 12 Axes>"
      ]
     },
     "metadata": {},
     "output_type": "display_data"
    }
   ],
   "source": [
    "#e = shap.DeepExplainer(var_wrp, background)\n",
    "e = shap.GradientExplainer(var_wrp, background)\n",
    "shap_values = e.shap_values(test_images)\n",
    "shap_numpy = [np.swapaxes(np.swapaxes(s, 1, -1), 1, 2) for s in shap_values]\n",
    "test_numpy = np.swapaxes(np.swapaxes(test_images.numpy(), 1, -1), 1, 2)\n",
    "shap.image_plot(shap_numpy, -test_numpy)"
   ]
  },
  {
   "cell_type": "code",
   "execution_count": null,
   "id": "11c36d3b-fe33-48c9-9b94-1967ef25f7f6",
   "metadata": {},
   "outputs": [],
   "source": []
  }
 ],
 "metadata": {
  "kernelspec": {
   "display_name": "Python 3 (ipykernel)",
   "language": "python",
   "name": "python3"
  },
  "language_info": {
   "codemirror_mode": {
    "name": "ipython",
    "version": 3
   },
   "file_extension": ".py",
   "mimetype": "text/x-python",
   "name": "python",
   "nbconvert_exporter": "python",
   "pygments_lexer": "ipython3",
   "version": "3.11.7"
  }
 },
 "nbformat": 4,
 "nbformat_minor": 5
}
